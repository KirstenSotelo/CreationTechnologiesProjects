{
 "cells": [
  {
   "cell_type": "markdown",
   "metadata": {},
   "source": [
    "Notebook Test"
   ]
  },
  {
   "cell_type": "code",
   "execution_count": 1,
   "metadata": {},
   "outputs": [],
   "source": [
    "import pandas as pd\n",
    "from reportlab.pdfgen import canvas\n",
    "from reportlab.platypus import *\n",
    "from reportlab.lib.pagesizes import *\n",
    "from reportlab.lib.styles import *\n",
    "from reportlab.pdfgen import *\n",
    "from reportlab.lib import colors\n",
    "from reportlab.graphics import shapes\n",
    "from reportlab.graphics.shapes import *\n",
    "\n",
    "from fpdf import FPDF\n",
    "from os import path\n",
    "import time\n",
    "import numpy as np\n",
    "from datetime import datetime"
   ]
  },
  {
   "cell_type": "markdown",
   "metadata": {},
   "source": [
    "Functions to Use Later"
   ]
  },
  {
   "cell_type": "code",
   "execution_count": 2,
   "metadata": {},
   "outputs": [],
   "source": [
    "def printBanner():\n",
    "    print()"
   ]
  },
  {
   "cell_type": "code",
   "execution_count": 3,
   "metadata": {},
   "outputs": [],
   "source": [
    "\n",
    "# Add leading zeros until 7 digits long (IPNs vary in length, need this for merging)\n",
    "def addLeadingZeros(IPN):\n",
    "    IPNstr = str(IPN)\n",
    "    if '.' not in IPNstr:\n",
    "        if len(IPNstr) == 7:\n",
    "            return IPNstr\n",
    "        elif len(IPNstr) == 6:\n",
    "            tempString = '0'\n",
    "            tempString += IPNstr\n",
    "            return tempString\n",
    "        elif len(IPNstr) == 5:\n",
    "            tempString = '00'\n",
    "            tempString += IPNstr\n",
    "            return tempString\n",
    "    else:\n",
    "        IPNsplitted = IPNstr.split('.')\n",
    "        if (len(IPNsplitted[0])) == 7:\n",
    "            return IPNstr\n",
    "        elif (len(IPNsplitted[0])) == 6:\n",
    "            tempString = '0'\n",
    "            tempString += IPNstr\n",
    "            return tempString\n",
    "        elif (len(IPNsplitted[0])) == 5:\n",
    "            tempString = '00'\n",
    "            tempString += IPNstr\n",
    "            return tempString"
   ]
  },
  {
   "cell_type": "code",
   "execution_count": 4,
   "metadata": {},
   "outputs": [],
   "source": [
    "# REFERENCE TABLE: DO NOT CHANGE OR DELETE THIS DATA\n",
    "# Function to apply on Secondary Input\n",
    "def replaceTableString(tableString):\n",
    "    x = str(tableString)\n",
    "    if 'Table31' in x: return 'SX1A L1'\n",
    "    elif 'Table32' in x: return 'SX1A L2'\n",
    "    elif 'Table33' in x: return 'SX1B L1'\n",
    "    elif 'Table34' in x: return 'SX1B L2'\n",
    "    elif 'Table35' in x: return 'SX2 L1'\n",
    "    elif 'Table36' in x: return 'SX2 L2'\n",
    "    elif 'Table51' in x: return 'SX1A L1'\n",
    "    elif 'Table52' in x: return 'SX1A L2'\n",
    "    elif 'Table53' in x: return 'SX1B L1'\n",
    "    elif 'Table54' in x: return 'SX1B L2'\n",
    "    elif 'Table55' in x: return 'SX2 L1'\n",
    "    elif 'Table56' in x: return 'SX2 L2'\n",
    "    elif 'Table65' in x: return 'SX1A L1'\n",
    "    elif 'Table68' in x: return 'SX1A L2'\n",
    "    elif 'Table69' in x: return 'SX1B L1'\n",
    "    elif 'Table70' in x: return 'SX1B L2'\n",
    "    elif 'Table73' in x: return 'SX2 L1'\n",
    "    elif 'Table72' in x: return 'SX2 L2'"
   ]
  },
  {
   "cell_type": "markdown",
   "metadata": {},
   "source": [
    "Reading Inputs"
   ]
  },
  {
   "cell_type": "code",
   "execution_count": 5,
   "metadata": {},
   "outputs": [],
   "source": [
    "# Reading 2 inputs:\n",
    "# Continue asking if the first input (Main Input) is not a file path\n",
    "# Then when entered a real file, do the same thing for Secondary Input\n",
    "\"\"\" print(\"Files MUST be within the same folder and have extensions '.xlsx'\")\n",
    "mainInput = input(\"Enter Main Input (MUST be .xlsx): \")\n",
    "while path.isfile(mainInput) == False:\n",
    "    mainInput = input(\"Please re-enter Main Input:\")\n",
    "else:\n",
    "    secondaryInput = input(\"Enter Secondary Input (MUST be .xlsx): \") \n",
    "    while path.isfile(secondaryInput) == False:\n",
    "        secondaryInput = input(\"Please re-enter Secondary Input:\") \"\"\"\n",
    "\n",
    "# The commented code above is standard, but for the sake of testing I skip asking for user inputs.\n",
    "mainInput = 'Input 2---Creation_Consolidated_WIP_Job__050723 (1) - Copy.xlsx'\n",
    "secondaryInput = '1.Query tool.xlsx'"
   ]
  },
  {
   "cell_type": "markdown",
   "metadata": {},
   "source": [
    "Dealing Main Input"
   ]
  },
  {
   "cell_type": "code",
   "execution_count": 6,
   "metadata": {},
   "outputs": [],
   "source": [
    "# Reading excel, then adjusting column order based on desired output\n",
    "dfMainInput = pd.read_excel(mainInput, usecols='B, C, G, H, I', names=['IPN', 'Description', 'Locator', 'OnHand Qty', 'Reqd Qty'], skiprows=7, skipfooter=2)\n",
    "dfMainInput = dfMainInput[['IPN', 'Description', 'Reqd Qty', 'OnHand Qty', 'Locator']]\n",
    "\n",
    "# Casting as str, then strip (incase of random spaces or tabs) and add leading zeros\n",
    "dfMainInput = dfMainInput.astype(str)\n",
    "dfMainInput['IPN']= dfMainInput['IPN'].str.strip()\n",
    "dfMainInput['IPN'] = dfMainInput['IPN'].apply(addLeadingZeros)"
   ]
  },
  {
   "cell_type": "markdown",
   "metadata": {},
   "source": [
    "Reading Job Number - Derived from Main Input file"
   ]
  },
  {
   "cell_type": "code",
   "execution_count": 7,
   "metadata": {},
   "outputs": [
    {
     "name": "stdout",
     "output_type": "stream",
     "text": [
      "12419630\n"
     ]
    }
   ],
   "source": [
    "# Job num appears in C2, so this reads C2 into a string\n",
    "readJobNumber = pd.read_excel(mainInput, usecols='C', nrows=1)\n",
    "header = readJobNumber.columns.tolist()\n",
    "readJobNumber[header[0]] = readJobNumber[header[0]].astype(str)\n",
    "jobNum = readJobNumber.at[0, header[0]]\n",
    "print(jobNum)"
   ]
  },
  {
   "cell_type": "markdown",
   "metadata": {},
   "source": [
    "Dealing Secondary Input"
   ]
  },
  {
   "cell_type": "code",
   "execution_count": 8,
   "metadata": {},
   "outputs": [],
   "source": [
    "# Reading excel, then casting to string, then replaces the 'Tor NYAB\\' so IPN is proper\n",
    "dfSecondaryInput = pd.read_excel(secondaryInput, usecols='C, F, G, H', header=None, names=['IPN', 'Table', 'Slot', 'Trk'])\n",
    "dfSecondaryInput = dfSecondaryInput.astype(str)\n",
    "dfSecondaryInput['IPN'] = dfSecondaryInput['IPN'].str.replace(r'Tor NYAB\\\\','', regex=True)\n",
    "\n",
    "# Applying functions accordingly\n",
    "dfSecondaryInput['IPN'] = dfSecondaryInput['IPN'].apply(addLeadingZeros)\n",
    "dfSecondaryInput['Table'] = dfSecondaryInput['Table'].apply(replaceTableString)\n",
    "#dfSecondaryInput['Table'] = dfSecondaryInput['Table'].str.replace(r'System\\\\Copy of ','', regex=True)"
   ]
  },
  {
   "cell_type": "markdown",
   "metadata": {},
   "source": [
    "Merging"
   ]
  },
  {
   "cell_type": "code",
   "execution_count": 9,
   "metadata": {},
   "outputs": [],
   "source": [
    "# Left merge so that it uses dfMainInput's list of IPNs\n",
    "dfMerged = dfMainInput.merge(dfSecondaryInput, how=\"left\", on=[\"IPN\"])\n",
    "\n",
    "# Insert 'Qty Picked' col in the third slot and have it be empty\n",
    "dfMerged.insert(3, \"Qty Picked\", \"\")\n",
    "# Create 'Comments' col at the end\n",
    "dfMerged[\"Comments\"] = \"\"\n",
    "# Create 'Job' col with repeating jobNum as its value\n",
    "dfMerged[\"Job\"] = jobNum\n",
    "dfMerged = dfMerged.replace(np.nan,\"\", regex=True)\n",
    "dfMerged = dfMerged.sort_values(['Table', 'Locator'], ascending=[True, True])"
   ]
  },
  {
   "cell_type": "code",
   "execution_count": 10,
   "metadata": {},
   "outputs": [
    {
     "data": {
      "text/plain": [
       "\" engine = create_engine('sqlite://', echo=False)\\ntoSQL = dfMerged.to_sql('test', engine)\\nprint(toSQL) \""
      ]
     },
     "execution_count": 10,
     "metadata": {},
     "output_type": "execute_result"
    }
   ],
   "source": [
    "\"\"\" engine = create_engine('sqlite://', echo=False)\n",
    "toSQL = dfMerged.to_sql('test', engine)\n",
    "print(toSQL) \"\"\""
   ]
  },
  {
   "cell_type": "code",
   "execution_count": 11,
   "metadata": {},
   "outputs": [],
   "source": [
    "def prepare_df_for_reportlab(df):\n",
    "    df2 = df.reset_index() # reset the index so row labels show up in the reportlab table\n",
    "    n = df2.columns.nlevels # number of table header rows to repeat\n",
    "    if n > 1:\n",
    "        labels = map(list, zip(*df2.columns.values))\n",
    "    else:\n",
    "        labels = [df2.columns[:,].values.astype(str).tolist()]\n",
    "    values = df2.values.tolist()\n",
    "    datalist = labels + values\n",
    "    return datalist, n"
   ]
  },
  {
   "cell_type": "markdown",
   "metadata": {},
   "source": [
    "REPORTLAB WORKING, BUT STILL NEED TO POLISH"
   ]
  },
  {
   "cell_type": "code",
   "execution_count": 12,
   "metadata": {},
   "outputs": [],
   "source": [
    "def reprFrame(frame):\n",
    "    _dict = vars(frame)\n",
    "    for key in sorted(list(_dict.keys())):\n",
    "        print(key, \": \", _dict[key])"
   ]
  },
  {
   "cell_type": "code",
   "execution_count": 13,
   "metadata": {},
   "outputs": [],
   "source": [
    "class NumberedCanvas(canvas.Canvas):\n",
    "    def __init__(self, *args, **kwargs):\n",
    "        canvas.Canvas.__init__(self, *args, **kwargs)\n",
    "        self._saved_page_states = []\n",
    "\n",
    "    def showPage(self):\n",
    "        self._saved_page_states.append(dict(self.__dict__))\n",
    "        self._startPage()\n",
    "\n",
    "    def save(self):\n",
    "        \"\"\"add page info to each page (page x of y)\"\"\"\n",
    "        num_pages = len(self._saved_page_states)\n",
    "        for state in self._saved_page_states:\n",
    "            self.__dict__.update(state)\n",
    "            self.draw_page_number(num_pages)\n",
    "            canvas.Canvas.showPage(self)\n",
    "        canvas.Canvas.save(self)\n",
    "\n",
    "    def draw_page_number(self, page_count):\n",
    "        #self.drawImage(Rect(50, 50, 300, 100, fillColor=colors.yellow))\n",
    "        self.setFont(\"Helvetica-Bold\", 10)\n",
    "        now = datetime.now()\n",
    "        s = now.strftime('%a %b %d %y')\n",
    "        self.drawRightString(290*mm, 8*mm,\n",
    "            \"Page %d of %d\" % (self._pageNumber, page_count)) # Drawing page number bottom right\n",
    "        \n",
    "        self.drawRightString(29*mm, 8*mm, s) # Drawing date at bottom left\n",
    "        "
   ]
  },
  {
   "cell_type": "code",
   "execution_count": 15,
   "metadata": {},
   "outputs": [
    {
     "name": "stdout",
     "output_type": "stream",
     "text": [
      "_aH :  475.27559055118115\n",
      "_aW :  815.4897637795276\n",
      "_atTop :  1\n",
      "_bottomPadding :  6\n",
      "_debug :  None\n",
      "_height :  487.27559055118115\n",
      "_leftExtraIndent :  0.0\n",
      "_leftPadding :  6\n",
      "_oASpace :  1\n",
      "_prevASpace :  0\n",
      "_rightExtraIndent :  0.0\n",
      "_rightPadding :  6\n",
      "_topPadding :  6\n",
      "_width :  827.4897637795276\n",
      "_x :  13.2\n",
      "_x1 :  7.2\n",
      "_x2 :  834.6897637795277\n",
      "_y :  517.2755905511812\n",
      "_y1 :  36.0\n",
      "_y1p :  42.0\n",
      "_y2 :  523.2755905511812\n",
      "id :  normal\n",
      "showBoundary :  0\n"
     ]
    }
   ],
   "source": [
    "def test():\n",
    "    doc = BaseDocTemplate(\n",
    "        \"TestOutput.pdf\",\n",
    "        pagesize=landscape(A4),\n",
    "        topMargin=0.5*inch,\n",
    "        bottomMargin=0.5*inch,\n",
    "        leftMargin=0.1*inch,\n",
    "        rightMargin=0.1*inch,\n",
    "    )\n",
    "    \n",
    "    elements = []\n",
    "\n",
    "    dfList = dfMerged.values.tolist()\n",
    "    #dfList.insert(0,dfMerged.columns)\n",
    "    data = dfList.copy()\n",
    "    \n",
    "    styleHDR = ParagraphStyle(\n",
    "        name='Normal',\n",
    "        fontName='Helvetica-Bold',\n",
    "        fontSize=10,\n",
    "    )\n",
    "\n",
    "    styles = getSampleStyleSheet()\n",
    "    styleN = styles['Normal']\n",
    "    styleIPN = ParagraphStyle(\n",
    "        name='Normal',\n",
    "        fontName='Helvetica-Bold',\n",
    "        fontSize=10,\n",
    "    )\n",
    "\n",
    "    styleDesc = ParagraphStyle(\n",
    "        name='Normal',\n",
    "        fontName='Helvetica',\n",
    "        fontSize=7,\n",
    "    )\n",
    "\n",
    "\n",
    "    headerList = (dfMerged.columns.values)\n",
    "    headerPG = []\n",
    "    for i in headerList:\n",
    "        headerPG.append(Paragraph(i, styleHDR))\n",
    "\n",
    "    data2 = []\n",
    "    data2.append(headerPG)\n",
    "    \n",
    "    for i in range(len(data)):\n",
    "        tempList = []\n",
    "        for j in range(11):\n",
    "            if j == 0: tempList.append(Paragraph(data[i][j], styleIPN))     #IPN\n",
    "            elif j == 1: tempList.append(Paragraph(data[i][j], styleDesc))  #DESC\n",
    "            elif j == 2: tempList.append(Paragraph(data[i][j], styleIPN))   #REQD QTY\n",
    "            elif j == 3: tempList.append(Paragraph(data[i][j], styleN))     #QTY PICKED\n",
    "            elif j == 4: tempList.append(Paragraph(data[i][j], styleIPN))     #ONHAND QTY\n",
    "            elif j == 5: tempList.append(Paragraph(data[i][j], styleN))     #LOCATOR\n",
    "            elif j == 6: tempList.append(Paragraph(data[i][j], styleIPN))     #TABLE\n",
    "            elif j == 7: tempList.append(Paragraph(data[i][j], styleN))     #SLOT\n",
    "            elif j == 8: tempList.append(Paragraph(data[i][j], styleN))     #TRK\n",
    "            elif j == 9: tempList.append(Paragraph(data[i][j], styleN))     #COMMENTS\n",
    "            elif j == 10: tempList.append(Paragraph(data[i][j], styleN))    #JOB\n",
    "        data2.append(tempList)\n",
    "\n",
    "\n",
    "\n",
    "    frame = Frame(doc.leftMargin, doc.bottomMargin, doc.width, doc.height - 0.5 * inch, id='normal')\n",
    "    reprFrame(frame)\n",
    "\n",
    "\n",
    "    t1 = Table(data2, \n",
    "           colWidths=[0.75*inch,3.4*inch,0.6*inch,1*inch,0.8*inch,1.1*inch,0.8*inch,0.5*inch,0.4*inch,1*inch,0.8*inch], \n",
    "           rowHeights=11*mm,\n",
    "           repeatRows=1,\n",
    "           )\n",
    "    \n",
    "    \n",
    "    t1.setStyle(TableStyle([\n",
    "                        ('BACKGROUND', (0,0), (11,0), colors.lightgrey), # Index Column Background\n",
    "                        ('FONTNAME', (0,0), (11,0), 'Helvetica-Bold'), # Index Column Bold\n",
    "                        ('FONTSIZE', (0,0), (11,0), 20), # Index Column Bold\n",
    "                        ('BOX',(0,0),(-1,0),1,colors.black), # BOX\n",
    "                        ('GRID',(0,0),(-1,-1),1,colors.black), # GRID\n",
    "                        ('VALIGN',(1,1),(-1,-1),'CENTER'), \n",
    "                         \n",
    "                        ('BOTTOMPADDING',(1,1),(1,-1),5), \n",
    "                       ]))\n",
    "\n",
    "    rowNum = len(dfList)\n",
    "    for i in range(1, rowNum):\n",
    "        if i % 2 == 0:\n",
    "            bc = colors.lightcyan\n",
    "            ts = TableStyle(\n",
    "            [('BACKGROUND',(0,i),(-1,i),bc),\n",
    "            ]\n",
    "            )\n",
    "        else:\n",
    "            bc = colors.white\n",
    "            ts = TableStyle(\n",
    "            [('BACKGROUND',(0,i),(-1,i),bc)]\n",
    "            )\n",
    "\n",
    "        t1.setStyle(ts)\n",
    "\n",
    "    t1.setStyle(TableStyle([\n",
    "                        ('BACKGROUND', (0,0), (11,0), colors.lightgrey), # Index Column Background\n",
    "                        ('BOX',(0,0),(-1,0),1,colors.black), # BOX\n",
    "                        ('GRID',(0,0),(-1,-1),1,colors.black), # GRID  \n",
    "                       ]))\n",
    "\n",
    "\n",
    "    x = 1\n",
    "    y = 8   \n",
    "    width = (8.5-2)*inch # object in points, so we multiply by inch (72 points)\n",
    "    height = 1*inch # object in points, so we multiply by inch (72 points)\n",
    "    d = shapes.Drawing(width,height)\n",
    "    r = shapes.Rect(x, y, width, height, fillColor=None, strokeColor=colors.black)\n",
    "    # add the rectangle to your Drawing\n",
    "    d.add(r)\n",
    "\n",
    "    \n",
    "    elements.append(t1)\n",
    "    elements.append(d)\n",
    "    template = PageTemplate(id='table', frames=frame)\n",
    "    doc.addPageTemplates([template])\n",
    "    doc.build(elements, canvasmaker=NumberedCanvas)\n",
    "\n",
    "test()"
   ]
  }
 ],
 "metadata": {
  "kernelspec": {
   "display_name": "Python 3",
   "language": "python",
   "name": "python3"
  },
  "language_info": {
   "codemirror_mode": {
    "name": "ipython",
    "version": 3
   },
   "file_extension": ".py",
   "mimetype": "text/x-python",
   "name": "python",
   "nbconvert_exporter": "python",
   "pygments_lexer": "ipython3",
   "version": "3.11.3"
  },
  "orig_nbformat": 4
 },
 "nbformat": 4,
 "nbformat_minor": 2
}
